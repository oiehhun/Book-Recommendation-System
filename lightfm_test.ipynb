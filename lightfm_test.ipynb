{
 "cells": [
  {
   "cell_type": "code",
   "execution_count": 1,
   "metadata": {},
   "outputs": [
    {
     "name": "stdout",
     "output_type": "stream",
     "text": [
      "평균 RMSE: 0.9999928319961975\n"
     ]
    }
   ],
   "source": [
    "# from models.lightfm import LightFM -> 해당 모듈의 predict lightfm 함수 구현 불가 (Cython 언어 활용, 해당 모듈에서 predict_lightfm 함수를 구현 불가 관계로, 해당 함수 제외 구현 완료)\n",
    "from lightfm import LightFM\n",
    "from models.dataset import Dataset\n",
    "import numpy as np\n",
    "import pandas as pd\n",
    "\n",
    "train_dataset = ['./models/test_0.csv', './models/train_1.csv', './models/train_2.csv']\n",
    "test_dataset = ['./models/test_0.csv', './models/test_1.csv', './models/test_2.csv']\n",
    "\n",
    "\n",
    "# 사용자와 아이템에 대한 피처 리스트\n",
    "item_features = ['Book-Title', 'Book-Author', 'Year-Of-Publication', 'Publisher']\n",
    "\n",
    "rmse_scores = []\n",
    "\n",
    "# 각 데이터셋에 대해 모델을 학습하고 평가\n",
    "for train_file, test_file in zip(train_dataset, test_dataset):\n",
    "    # 데이터 불러오기\n",
    "    train = pd.read_csv(train_file)\n",
    "    test = pd.read_csv(test_file)\n",
    "\n",
    "    # 데이터셋 객체 생성\n",
    "    dataset = Dataset()\n",
    "\n",
    "    # 사용자와 아이템의 고유한 식별자와 사용할 모든 피처를 데이터셋에 등록\n",
    "    dataset.fit(users=pd.concat([train, test])['User-ID'].unique(), \n",
    "                items=pd.concat([train, test])['ISBN'].unique(),\n",
    "                item_features=pd.concat([train, test])[list(item_features)].values.flatten())\n",
    "\n",
    "    # 학습용 데이터를 coo_matrix 형태로 변환\n",
    "    (interactions_train, weights_train) = dataset.build_interactions((row['User-ID'], row['ISBN'], row['Book-Rating']) for index, row in train.iterrows())\n",
    "\n",
    "    # 테스트 데이터를 coo_matrix 형태로 변환\n",
    "    (interactions_test, weights_test) = dataset.build_interactions((row['User-ID'], row['ISBN'], row['Book-Rating']) for index, row in test.iterrows())\n",
    "\n",
    "    # LightFM 모델 생성 및 학습\n",
    "    model = LightFM(learning_rate= 0.04, item_alpha= 0.25, user_alpha= 0.25, no_components= 7)\n",
    "    model.fit(interactions_train)\n",
    "\n",
    "    # 테스트 데이터에 대해 예측 수행\n",
    "    predictions = model.predict(interactions_test.row, interactions_test.col)\n",
    "\n",
    "    # RMSE 계산\n",
    "    def mean_squared_error(y_true, y_pred):\n",
    "        # 실제 값과 예측 값의 차이의 제곱을 계산\n",
    "        squared_error = (y_true - y_pred) ** 2\n",
    "        # 제곱 오차의 평균을 계산\n",
    "        mse = squared_error.mean()\n",
    "        return mse\n",
    "\n",
    "    rmse = np.sqrt(mean_squared_error(interactions_test.data, predictions))\n",
    "    rmse_scores.append(rmse)\n",
    "\n",
    "# 결과 출력\n",
    "print(f\"평균 RMSE: {np.mean(rmse_scores)}\")"
   ]
  }
 ],
 "metadata": {
  "kernelspec": {
   "display_name": "highlight",
   "language": "python",
   "name": "python3"
  },
  "language_info": {
   "codemirror_mode": {
    "name": "ipython",
    "version": 3
   },
   "file_extension": ".py",
   "mimetype": "text/x-python",
   "name": "python",
   "nbconvert_exporter": "python",
   "pygments_lexer": "ipython3",
   "version": "3.10.14"
  }
 },
 "nbformat": 4,
 "nbformat_minor": 2
}
